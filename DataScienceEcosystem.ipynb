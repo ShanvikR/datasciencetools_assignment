{
 "cells": [
  {
   "cell_type": "markdown",
   "id": "6cef4681-be4a-4eaf-b632-5031b0b0f776",
   "metadata": {},
   "source": [
    "# Data Science Tools and Ecosystem"
   ]
  },
  {
   "cell_type": "markdown",
   "id": "265f1378-4746-439d-a5e4-bf12e86139a8",
   "metadata": {},
   "source": [
    "In this notebook, Data Science Tools and Ecosystem are summarized."
   ]
  },
  {
   "cell_type": "markdown",
   "id": "c09a9ffa-6d4e-4e53-963f-5d5267e80bfd",
   "metadata": {},
   "source": [
    "## Objectives\n",
    "* Identify the criteria and roles for determining the language to learn.\n",
    "* Identify the users and benefits of Python.\n",
    "* Identify the users and uses of the R language.\n",
    "* Define SQL elements and list their benefits.\n",
    "* Review languages such as Java, Scala, C++, JavaScript, and Julia.\n",
    "* List the global communities for connecting with other users.\n"
   ]
  },
  {
   "cell_type": "markdown",
   "id": "fb2a9f82-8918-4faa-9b9a-f956ff4fcd2a",
   "metadata": {},
   "source": [
    "### Some of the popular languages that Data Scientists use are:\n",
    "\n",
    "1. Python\n",
    "2. R\n",
    "3. SQL\n",
    "4. Visual Basic"
   ]
  },
  {
   "cell_type": "markdown",
   "id": "c9393691-0fa1-4b0e-b6c0-035afebf8e17",
   "metadata": {},
   "source": [
    "### Some of the commonly used libraries used by Data Scientists include:\n",
    "\n",
    "1. Pandas\n",
    "2. Numpy\n",
    "3. Seaborn\n",
    "4. matplotlib"
   ]
  },
  {
   "cell_type": "markdown",
   "id": "f9fb1464-5b2f-48f2-933c-55d8a8b9d434",
   "metadata": {},
   "source": [
    "| Data Science Tools |\n",
    "| ------------------ |\n",
    "| Jupyter Lab |\n",
    "| R Studio |\n",
    "| Visual studio code |\n",
    "| Pycharm |"
   ]
  },
  {
   "cell_type": "markdown",
   "id": "29f35424-5ebe-49ef-ad6c-e7878ff23356",
   "metadata": {},
   "source": [
    "### Below are a few examples of evaluating arithmetic expressions in Python"
   ]
  },
  {
   "cell_type": "code",
   "execution_count": 4,
   "id": "5c5615cc-69bb-4c4d-9b24-d3aa4b4e8656",
   "metadata": {},
   "outputs": [
    {
     "data": {
      "text/plain": [
       "9"
      ]
     },
     "execution_count": 4,
     "metadata": {},
     "output_type": "execute_result"
    }
   ],
   "source": [
    "4+5"
   ]
  },
  {
   "cell_type": "code",
   "execution_count": 5,
   "id": "37877c48-2d80-42ec-8c24-70d6a02001a2",
   "metadata": {},
   "outputs": [
    {
     "data": {
      "text/plain": [
       "168"
      ]
     },
     "execution_count": 5,
     "metadata": {},
     "output_type": "execute_result"
    }
   ],
   "source": [
    "24*7\n"
   ]
  },
  {
   "cell_type": "code",
   "execution_count": 7,
   "id": "d9d9caed-1259-491b-a1ed-e8f2216f10a1",
   "metadata": {},
   "outputs": [
    {
     "data": {
      "text/plain": [
       "17"
      ]
     },
     "execution_count": 7,
     "metadata": {},
     "output_type": "execute_result"
    }
   ],
   "source": [
    "#This a simple arithmetic expression to mutiply then add integers\n",
    "(3*4)+5"
   ]
  },
  {
   "cell_type": "code",
   "execution_count": 8,
   "id": "0283dbcd-3900-4162-8ea3-1b08e12305a3",
   "metadata": {},
   "outputs": [
    {
     "data": {
      "text/plain": [
       "3.3333333333333335"
      ]
     },
     "execution_count": 8,
     "metadata": {},
     "output_type": "execute_result"
    }
   ],
   "source": [
    "#This will convert 200 minutes to hours by diving by 60\n",
    "200/60"
   ]
  },
  {
   "cell_type": "markdown",
   "id": "1ac44224-bd1a-42e3-9efd-0cdb026f794b",
   "metadata": {},
   "source": [
    "## Author\n",
    "Shanmugam R"
   ]
  },
  {
   "cell_type": "code",
   "execution_count": null,
   "id": "2bf42388-2ace-405a-8ee7-bf345832b4f6",
   "metadata": {},
   "outputs": [],
   "source": []
  }
 ],
 "metadata": {
  "kernelspec": {
   "display_name": "Python 3 (ipykernel)",
   "language": "python",
   "name": "python3"
  },
  "language_info": {
   "codemirror_mode": {
    "name": "ipython",
    "version": 3
   },
   "file_extension": ".py",
   "mimetype": "text/x-python",
   "name": "python",
   "nbconvert_exporter": "python",
   "pygments_lexer": "ipython3",
   "version": "3.10.9"
  }
 },
 "nbformat": 4,
 "nbformat_minor": 5
}
